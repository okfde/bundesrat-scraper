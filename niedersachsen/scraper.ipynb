{
 "cells": [
  {
   "cell_type": "code",
   "execution_count": 1,
   "metadata": {},
   "outputs": [],
   "source": [
    "%load_ext autoreload\n",
    "%autoreload 2"
   ]
  },
  {
   "cell_type": "code",
   "execution_count": 2,
   "metadata": {},
   "outputs": [],
   "source": [
    "import json\n",
    "import os"
   ]
  },
  {
   "cell_type": "code",
   "execution_count": 3,
   "metadata": {},
   "outputs": [],
   "source": [
    "import scraper_niedersachsen"
   ]
  },
  {
   "cell_type": "code",
   "execution_count": 4,
   "metadata": {},
   "outputs": [],
   "source": [
    "USE_CACHE = True"
   ]
  },
  {
   "cell_type": "code",
   "execution_count": 5,
   "metadata": {},
   "outputs": [],
   "source": [
    "if USE_CACHE:\n",
    "    os.makedirs('./_cache', exist_ok=True)"
   ]
  },
  {
   "cell_type": "code",
   "execution_count": 6,
   "metadata": {},
   "outputs": [
    {
     "data": {
      "text/plain": [
       "64"
      ]
     },
     "execution_count": 6,
     "metadata": {},
     "output_type": "execute_result"
    }
   ],
   "source": [
    "with open('../bundesrat/sessions.json') as f:\n",
    "    sessions = json.load(f)\n",
    "len(sessions)"
   ]
  },
  {
   "cell_type": "code",
   "execution_count": 7,
   "metadata": {},
   "outputs": [],
   "source": [
    "FILENAME = 'session_tops.json'\n",
    "if os.path.exists(FILENAME):\n",
    "    with open(FILENAME) as f:\n",
    "        session_tops = json.load(f)\n",
    "else:\n",
    "    session_tops = {}"
   ]
  },
  {
   "cell_type": "code",
   "execution_count": 8,
   "metadata": {},
   "outputs": [
    {
     "name": "stdout",
     "output_type": "stream",
     "text": [
      "\n",
      "Loading tops of: 972\n",
      "\n",
      "Haltung NI: Keine Anrufung VA wie Drs. 521/1/18 Ziff. 1 Enthaltung zu Entschließung fassen wie Drs. 521/1/18 Ziff. 2 \n",
      "Haltung NI: Keine Anrufung VA \n",
      "Haltung NI: Zustimmung \n",
      "Haltung NI: Zustimmung \n",
      "Haltung NI: Keine Anrufung VA \n",
      "Haltung NI: Keine Anrufung VA. Stellen eines Plenarantrages \n",
      "Haltung NI: Keine Anrufung VA \n",
      "Haltung NI: Keine Anrufung VA \n",
      "Haltung NI: Keine Anrufung VA \n",
      "Haltung NI: Keine Anrufung VA \n",
      "13. a) 17. 22. 26. 30. 34. 38. 42. 46. 51. 54. 59. 63. Zweites Gesetz zur Änderung bewachungsrechtlicher Vorschriften Gesetz zu dem Abkommen vom 8. Februar 2018 zwischen der Entschließung des Bundesrates -Bereitstellung der Mittel für den Pakt für Entwurf eines Fünften Gesetzes zur Änderung des Elften Buches Entwurf eines Gesetzes zur Änderung des Erneuerbare-Energien-Gesetzes, Vorschlag für eine Richtlinie des Europäischen Parlaments und des Rates Vorschlag für eine Verordnung des Europäischen Parlaments und des Rates Siebte Verordnung zur Änderung der SozialversicherungsZehnte Allgemeine Verwaltungsvorschrift zur Änderung der Allgemeinen c) Bestellung von Mitgliedern des Verwaltungsrates der Kreditanstalt für Entwurf eines Gesetzes zur Erleichterung der Bildung betrieblicher Entschließung des Bundesrates -Streichung der Importförderklausel für Gesetz zu der Entschließung LP.4(8) vom 18. Oktober 2013 über die Benennung von Beauftragten des Bundesrates in Beratungsgremien der Änderung des Londoner Protokolls zur Regelung des Absetzens von Stoffen Drucksache 531/18 Bundesrepublik Deutschland und der Tunesischen Republik zur Vermeidung den Rechtsstaat durch den Bund Sozialgesetzbuch -Beitragssatzanpassung des Kraft-Wärme-Kopplungsgesetzes, des Energiewirtschaftsgesetzes und zur Abschaffung der jahreszeitlich bedingten Zeitumstellung und zur zur Verhinderung der Verbreitung terroristischer Online-Inhalte Rechnungsverordnung Verwaltungsvorschrift über das Rechnungswesen in der Sozialversicherung Europäischen Union für die neue Generation von Arbeitsgruppen im Rahmen Wiederaufbau Interessenvertretungen für im Flugbetrieb beschäftigte Arbeitnehmerinnen Arzneimittel im Fünften Buch Sozialgesetzbuch für Tätigkeiten der Meeresdüngung und andere Tätigkeiten des marinen Geoder Doppelbesteuerung auf dem Gebiet der Steuern vom Einkommen und Antrag des Landes Nordrhein-Westfalen Drucksache 503/18 weiterer energierechtlicher Vorschriften Aufhebung der Richtlinie 2000/84/EG COM(2018) 640 final; Ratsdok. 12129/18 Drucksache 497/18 Drucksache 499/18 der Offenen Methode der Koordinierung zur Umsetzung des strategischen Drucksache 413/18 und Arbeitnehmer von Luftfahrtunternehmen Antrag des Landes Brandenburg zwischen der Bundesrepublik Deutschland und dem Zentralrat der Juden in Engineerings Haltung NI: Keine Anrufung VA vom Vermögen Antrag des Landes Nordrhein-Westfalen Drucksache 563/18 COM(2018) 639 final; Ratsdok. 12118/18 Drucksache 474/18 Rahmens für die europäische Zusammenarbeit auf dem Gebiet der Antrag der Länder Berlin, Brandenburg, Bremen, Thüringen Drucksache 578/18 Deutschland -Körperschaft des öffentlichen Rechts -zuletzt geändert durch Drucksache 527/18 Drucksache 538/18 Drucksache 322/18 Haltung NI: Keine Einwendungen Drucksache 443/18 Haltung NI: Zustimmung Haltung NI: Zustimmung allgemeinen und beruflichen Bildung (\"ET 2020\") Haltung NI: Zustimmung wie Drs. 513/1/18 Drucksache 576/18 den Vertrag vom 30. November 2011 Ergebnis BR: Keine Anrufung VA Haltung NI: Stellungnahme wie Drs. 563/1/18 Ziff. 1 bis 58, aber Nein zu Ziff. 2, 14, Haltung NI: Stellungnahme wie Drs. 474/1/18 Ziff. 1 bis 24, aber Nein zu Ziff. 6 und (Kommissionsarbeitsgruppe \"Erwachsenenbildung\") Haltung NI: Aussprache und Ausschussüberweisung Drucksache 524/18 Haltung NI: Zustimmung Haltung NI: Zustimmung Wurde von der Tagesordnung abgesetzt Ergebnis BR: Keine Einwendungen 18, 19, 20, 53 sowie Enthaltung zu Ziff. 5, 6, 32, 35, 39, 43, 45, 52. Zustimmung zu Haltung NI: Stellungnahme wie Drs. 443/1/18 Ziff. 1 bis 6 7 sowie Enthaltung zu Ziff. 5, 11 bis 20a-c, 21, 22 Ergebnis BR: Zustimmung Ergebnis BR: Zustimmung Drucksache 501/18 Ergebnis BR: Zustimmung wie Drs. 513/1/18 Haltung NI: Aussprache und Ausschussüberweisung Plenaranträgen HH, BB Ergebnis BR: Aussprache und Ausschussüberweisung Haltung NI: Keine Anrufung VA Ergebnis BR: Zustimmung Ergebnis BR: Zustimmung Ergebnis BR: Stellungnahme wie Drs. 443/1/18 ohne Ziff. 2 Ergebnis BR: Stellungnahme wie Drs. 474/1/18 ohne Ziff. 6, 7, 9, 11-14, 16, 19, Haltung NI: Zustimmung wie Drs. 501/1/18 Ergebnis BR: Aussprache und Ausschussüberweisung 18. Gesetz zur Änderung des Akkreditierungsstellengesetzes und der Ergebnis BR: Stellungnahme wie Drs. 563/1/18 ohne Ziff. 1g, m, n, 2, 5, 6, 11, 13, 20a-c, 21, 22 27. 31. 47. 52. 55. Ergebnis BR: Keine Anrufung VA Gewerbeordnung Entschließung des Bundesrates zur Reduktion des von grenznahen Entwurf eines Gesetzes für schnellere Termine und bessere Versorgung 18, 19, 26, 32, 34, 41, 45, 48, 52-54, 56, 57. Zustimmung zum Plenarantrag HH Erste Verordnung zur Änderung der Neuartige Lebensmittel-Verordnung Benennung eines Mitglieds und eines stellvertretenden Mitglieds für den Ergebnis BR: Zustimmung wie Drs. 501/1/18 Benennung eines stellvertretenden Mitglieds des Kuratoriums der Stiftung 64. Drucksache 532/18 Kernkraftwerken ausgehenden Risikos für die Bevölkerung in Deutschland (Terminservice-und Versorgungsgesetz -TSVG) Drucksache 498/18 Beirat des Klärschlamm-Entschädigungsfonds \"Haus der Geschichte der Bundesrepublik Deutschland\" Entschließung des Bundesrates \"Fahrgastrechte stärken - 23. 39. 60. b) Gesetz zu dem Internationalen Übereinkommen von Hongkong von 2009 über Antrag des Landes Baden-Württemberg Drucksache 504/18 Mitteilung der Kommission an das Europäische Parlament, den Rat, die Drucksache 542/18 Drucksache 483/18 Entwurf eines Gesetzes zur Änderung der Abgabenordnung zwecks Entschädigungsansprüche der Verbraucherinnen und Verbraucher bei Gesetz zur Beschränkung des marinen Geo-Engineerings 43. Drucksache 528/18 Haltung NI: Keine Anrufung VA das sichere und umweltgerechte Recycling von Schiffen (Übereinkommen Drucksache 512/18 Europäische Zentralbank, den Europäischen Wirtschafts-und Mitteilung der Kommission an das Europäische Parlament, den Rat, den Haltung NI: Zustimmung Anerkennung der Gemeinnützigkeit von Freifunk Verspätungen und Ausfällen im Flug-und Bahnverkehr automatisieren\" 10. 35. Drittes Gesetz zur Änderung des Asylgesetzes von Hongkong) Haltung NI: Stellungnahme wie Drs. 504/1/18 Ziff. 1 bis 53, aber Nein zu Ziff. 8, 24, Entwurf eines Gesetzes zu dem Abkommen vom 14. August 2017 zwischen Sozialausschuss und den Ausschuss der Regionen: EU-Justizbarometer Europäischen Wirtschafts-und Sozialausschuss und den Ausschuss der Haltung NI: Zustimmung wie Drs. 542/1/18 d) Haltung NI: Zustimmung gemäß Artikel 76 Absatz 1 GG Antrag des Saarlandes Benennung von Beauftragten des Bundesrates in Beratungsgremien der Drucksache 561/18 Haltung NI: Keine Anrufung VA Ergebnis BR: Keine Anrufung VA Drucksache 539/18 Wurde von der Tagesordnung abgesetzt 37 und 39 sowie Enthaltung zu Ziff. 29 und 30 der Bundesrepublik Deutschland und der Republik Mauritius über den 2018 Regionen: Eine nachhaltige Bioökonomie für Europa -Stärkung der Ergebnis BR: Zustimmung Europäischen Union für die Europass Sachverständigengruppe der Antrag der Länder Schleswig-Holstein, Bremen, Hamburg, NordrheinDrucksache 571/18 Luftverkehr COM(2018) 364 final Verbindungen zwischen Wirtschaft, Gesellschaft und Umwelt Ergebnis BR: Zustimmung wie Drs. 542/1/18 Kommission (Europass Advisory Group) Ergebnis BR: Zustimmung Westfalen, Rheinland-Pfalz, Thüringen Haltung NI: Keine Anrufung VA Ergebnis BR: Keine Anrufung VA Haltung NI: Zustimmung Ergebnis BR: Stellungnahme wie Drs. 504/1/18 ohne Ziff. 3, 4, 11, 18, 19, 22, 24, Drucksache 507/18 Drucksache 416/18 COM(2018) 673 final Drucksache 513/18 Drucksache 573/18 Haltung NI: Aussprache und Ausschussüberweisung 32, 39, 47 Drucksache 511/18 19. 28. 48. Ergebnis BR: Keine Anrufung VA Viertes Gesetz zur Änderung des Telekommunikationsgesetzes Ergebnis BR: Zustimmung Entschließung des Bundesrates zu Transparenz und klaren Regeln auf Haltung NI: Keine Einwendungen Haltung NI: Stellungnahme wie Drs. 416/18 Ziff. 1 bis 8 Zweite Verordnung zur Änderung der AZRG-Durchführungsverordnung Haltung NI: Zustimmung wie Drs. 513/1/18 Haltung NI: Keine sofortige Sachentscheidung. Enthaltung zur Einbringung Ergebnis BR: Aussprache und Ausschussüberweisung 53. a) 56. Drucksache 533/18 digitalen Märkten Haltung NI: Stellungnahme wie Drs. 511/1/18 Ziff. 1 bis 8 Drucksache 508/18 Vorschlag der Bundesministerin der Justiz und für Verbraucherschutz für die Benennung von Beauftragten des Bundesrates in Beratungsgremien der 14. Gesetz zur Änderung des Bundesfernstraßenmautgesetzes und zur Antrag des Landes Hessen Ergebnis BR: Keine Einwendungen Ergebnis BR: Stellungnahme wie Drs. 416/18 Ziff. 1 bis 8 Europäischen Union für die Arbeitsgruppe der Kommission für heterogenes Ergebnis BR: Zustimmung wie Drs. 513/1/18 Ernennung einer Bundesanwältin beim Bundesgerichtshof Ergebnis BR: Einbringung 32. Änderung weiterer straßenverkehrsrechtlicher Vorschriften Haltung NI: Keine Anrufung VA Drucksache 519/18 Entwurf eines Vierten Gesetzes zur Änderung des Umwandlungsgesetzes Ergebnis BR: Stellungnahme wie Drs. 511/1/18 Ziff. 1 bis 8 Material für Pflanzenpopulationen Drucksache 489/18 Haltung NI: Zustimmung mit Maßgabe wie Drs. 508/1/18 Ziff. 1 und 2 11. 24. 65. Gesetz zur Umsetzung der Richtlinie (EU) 2015/2436 des Europäischen Drucksache 529/18 Entwurf eines Gesetzes zur Dynamisierung der Einkommensgrenze für Drucksache 505/18 Drucksache 457/18 Wahl eines Schriftführers Parlaments und des Rates vom 16. Dezember 2015 zur Angleichung der Ergebnis BR: Keine Anrufung VA Minijobs und für Verbesserungen für Arbeitnehmer in der Gleitzone Haltung NI: Entschließung mit Maßgabe fassen wie Drs. 519/1/18 Ziff. 1. Stellen Haltung NI: Zustimmung Drucksache 567/18 Ergebnis BR: Zustimmung mit Maßgabe wie Drs. 508/1/18 Ziff. 1 und 2 36. 40. 61. Rechtsvorschriften der Mitgliedstaaten über die Marken Haltung NI: Keine Anrufung VA Antrag des Landes Nordrhein-Westfalen eines Plenarantrages Haltung NI: Stellungnahme wie Drs. 505/1/18 Ziff. 1 und 2 Bericht über die Situation unbegleiteter ausländischer Minderjähriger in Vorschlag für eine Verordnung des Europäischen Parlaments und des Rates Haltung NI: Zustimmung wie Drs. 457/1/18 e) Entwurf eines Gesetzes zum Schutz von Genossenschaften Benennung von Beauftragten des Bundesrates in Beratungsgremien der 44. (Markenrechtsmodernisierungsgesetz -MaMoG) Drucksache 419/18 Deutschland über die Europäische Grenz-und Küstenwache und zur Aufhebung der Dritte Verordnung zur Änderung der Europäischen Union für die Ratsarbeitsgruppe \"Zusammenarbeit in Ergebnis BR: Zustimmung Antrag des Landes Brandenburg Haltung NI: Zustimmung Drucksache 525/18 Ergebnis BR: Keine Anrufung VA Ergebnis BR: Entschließung mit Maßgabe fassen wie Drs. 519/1/18 Ziff. 1 und Ergebnis BR: Stellungnahme wie Drs. 505/1/18 Ziff. 1 und 2 Drucksache 478/18 Gemeinsamen Aktion 98/700/JHA des Rates, der Verordnung (EU) Nr. Verwaltungskostenfeststellungsverordnung Ergebnis BR: Zustimmung wie Drs. 457/1/18 Strafsachen\" (COPEN) Drucksache 577/18 20. Gesetz über die Feststellung des Wirtschaftsplans des ERPHaltung NI: Enthaltung zu Einbringung wie Drs. 419/1/18 Plenarantrag NI 1052/2013 des Europäischen Parlaments und des Rates und der Verordnung Drucksache 486/18 Drucksache 514/18 Ergebnis BR: Zustimmung 49. Verordnung zur Umsetzung der Richtlinie (EU) 2016/97 des Europäischen Haltung NI: Keine Anrufung VA Sondervermögens für das Jahr 2019 (ERP-Wirtschaftsplangesetz 2019) Haltung NI: Kenntnisnahme (EU) 2016/1624 des Europäischen Parlaments und des Rates Haltung NI: Aussprache und Ausschussüberweisung Parlaments und des Rates vom 20. Januar 2016 über Versicherungsvertrieb 57. Drucksache 534/18 Ergebnis BR: Keine Einbringung wie Drs. 419/1/18 COM(2018) 631 final; Ratsdok. 12143/18 Haltung NI: Zustimmung Haltung NI: Zustimmung wie Drs. 514/1/18 Verfahren vor dem Bundesverfassungsgericht Drucksache 487/18 15. 33. Ergebnis BR: Keine Anrufung VA Zweites Gesetz zur Änderung des Seearbeitsgesetzes Entwurf eines Fünften Gesetzes zur Änderung des Ergebnis BR: Kenntnisnahme Drucksache 472/18 b) Drucksache 535/18 Ergebnis BR: Aussprache und Ausschussüberweisung Benennung von Beauftragten des Bundesrates in Beratungsgremien der 29. 66. Drucksache 530/18 Haltung NI: Keine Anrufung VA Entwurf eines Gesetzes zur fortgesetzten Beteiligung des Bundes an den Telekommunikationsgesetzes (5. TKG-Änderungsgesetz -5. TKGÄndG) Ergebnis BR: Zustimmung Europäischen Union für die neue Generation von Arbeitsgruppen im Rahmen Ergebnis BR: Zustimmung wie Drs. 514/1/18 Entschließung des Bundesrates: Wirksame Unterstützung der Forstbetriebe Haltung NI: Zustimmung Integrationskosten der Länder und Kommunen und zur Regelung der Folgen Drucksache 506/18 Haltung NI: Kenntnisnahme wie Drs. 472/1/18 Ziff. 6. Stellen eines Plenarantrages der Offenen Methode der Koordinierung zur Umsetzung des strategischen Haltung NI: Keine Äußerung, kein Beitritt in Folge klimawandelbedingter Extremwetterereignisse 25. Haltung NI: Keine Anrufung VA Ergebnis BR: Keine Anrufung VA Entschließung des Bundesrates \"Es ist normal, verschieden zu sein\" der Abfinanzierung des Fonds \"Deutsche Einheit\" Rahmens für die europäische Zusammenarbeit auf dem Gebiet der Antrag des Landes Rheinland-Pfalz Ergebnis BR: Zustimmung 12. 37. 62. Gesetz zur Umsetzung der Marrakesch-Richtlinie über einen verbesserten Antrag der Länder Bremen, Berlin Drucksache 502/18 Haltung NI: Stellungnahme wie Drs. 506/1/18 Ziff. 1 bis 3. Zustimmung zum Bericht nach § 3 des Energieleitungsausbaugesetzes Ergebnis BR: Stellungnahme wie Drs. 472/1/18 Ziff. 5 allgemeinen und beruflichen Bildung (\"ET 2020\") (Arbeitsgruppe der Ergebnis BR: Keine Äußerung, kein Beitritt Entschließung des Bundesrates -Teilhabeverfahrensbericht nach Drucksache 595/18 45. Zugang zu urheberrechtlich geschützten Werken zugunsten von Menschen Ergebnis BR: Keine Anrufung VA Drucksache 495/18 Plenarantrag SH Drucksache 485/18 Verordnung über maßgebende Rechengrößen der Sozialversicherung für Kommission \"Frühkindliche Bildung und Betreuung\") f) Sozialgesetzbuch (SGB IX) Neuntes Buch Rehabilitation und Teilhabe von Benennung von Beauftragten des Bundesrates in Beratungsgremien der mit einer Seh-oder Lesebehinderung Haltung NI: Stellungnahme wie Drs. 502/1/18 Ziff. 1 bis 7, aber Nein zu Ziff. 2 und 2019 (Sozialversicherungs-Rechengrößenverordnung 2019) Drucksache 460/18 Europäischen Union für die neue Generation von Arbeitsgruppen im Rahmen Menschen mit Behinderungen (§ 41) Haltung NI: Aussprache und Ausschussüberweisung 21. Drucksache 526/18 Gesetz zu dem Abkommen vom 7. Dezember 2017 zwischen der Regierung Haltung NI: Entschließung fassen 3 sowie Enthaltung zu Ziff. 6 Ergebnis BR: Stellungnahme wie Drs. 506/1/18 ohne Ziff. 3. Zustimmung zum Haltung NI: Kenntnisnahme Drucksache 496/18 der Offenen Methode der Koordinierung zur Umsetzung des strategischen Antrag des Landes Nordrhein-Westfalen 50. Fünfte Allgemeine Verwaltungsvorschrift zur Änderung der Kommunalträger41. 58. der Bundesrepublik Deutschland und dem Europäischen Forstinstitut über Plenarantrag SH Vorschlag für eine Richtlinie des Europäischen Parlaments und des Rates Haltung NI: Zustimmung wie Drs. 460/1/18 Rahmens für die europäische Zusammenarbeit auf dem Gebiet der Wahl des Vizepräsidenten des Bundesverfassungsgerichts Drucksache 570/18 Ergebnis BR: Aussprache und Ausschussüberweisung Abrechnungsverwaltungsvorschrift 16. Haltung NI: Keine Anrufung VA Gesetz zur Beschleunigung von Planungs-und Genehmigungsverfahren im die Errichtung eines Büros des Europäischen Forstinstituts in der Ergebnis BR: Entschließung fassen Ergebnis BR: Stellungnahme wie Drs. 502/1/18 ohne Ziff. 2b, 3, 6 Ergebnis BR: Kenntnisnahme über gemeinsame Normen und Verfahren in den Mitgliedstaaten zur Haltung NI: Zustimmung allgemeinen und beruflichen Bildung (\"ET 2020\") Drucksache 580/18 Drucksache 488/18 Verkehrsbereich Bundesrepublik Deutschland Rückführung illegal aufhältiger Drittstaatsangehöriger (Neufassung) Ergebnis BR: Zustimmung wie Drs. 460/1/18 Drucksache 520/18 Haltung NI: Aussprache und Ausschussüberweisung Ergebnis BR: Keine Anrufung VA Drucksache 562/18 Drucksache 537/18 COM(2018) 634 final; Ratsdok. 12099/18 Ergebnis BR: Zustimmung Haltung NI: Zustimmung Haltung NI: Zustimmung Drucksache 473/18 Haltung NI: Zustimmung wie Drs. 520/1/18 Ergebnis BR: Aussprache und Ausschussüberweisung Haltung NI: Zustimmung wie Drs. 562/1/18 Ziff. 1. Entschließung fassen wie Drs. Haltung NI: Zustimmung Ergebnis BR: Zustimmung Ergebnis BR: Zustimmung 562/1/18 Ziff. 2 bis 6, aber Nein zu Ziff. 6 und Enthaltung zu Ziff. 5 Haltung NI: Stellungnahme wie Drs. 473/1/18 Ziff. 1 bis 22, aber Enthaltung zu Ziff. Ergebnis BR: Zustimmung wie Drs. 520/1/18 Ergebnis BR: Zustimmung 7, 11, 20, 21. Enthaltung zum Plenarantrag NW Ergebnis BR: Kabinett zur Kenntnis Zustimmung wie Drs. 562/1/18 Ziff. 1. Entschließung fassen wie Drs. 562/1/18 ohne Ziff. 2d, 4-6 Ergebnis BR: Stellungnahme wie Drs. 473/1/18 ohne Ziff. 6-9, 11, 13, 15, 19-22 \n"
     ]
    },
    {
     "ename": "AttributeError",
     "evalue": "'NoneType' object has no attribute 'group'",
     "output_type": "error",
     "traceback": [
      "\u001b[0;31m-------------------------------------------------------------------\u001b[0m",
      "\u001b[0;31mAttributeError\u001b[0m                    Traceback (most recent call last)",
      "\u001b[0;32m<ipython-input-8-2e2f5bd03bb3>\u001b[0m in \u001b[0;36m<module>\u001b[0;34m\u001b[0m\n\u001b[1;32m      5\u001b[0m     \u001b[0mprint\u001b[0m\u001b[0;34m(\u001b[0m\u001b[0;34m'\\nLoading tops of: %s'\u001b[0m \u001b[0;34m%\u001b[0m \u001b[0mnum\u001b[0m\u001b[0;34m)\u001b[0m\u001b[0;34m\u001b[0m\u001b[0;34m\u001b[0m\u001b[0m\n\u001b[1;32m      6\u001b[0m \u001b[0;34m\u001b[0m\u001b[0m\n\u001b[0;32m----> 7\u001b[0;31m     \u001b[0mresult\u001b[0m \u001b[0;34m=\u001b[0m \u001b[0mscraper_niedersachsen\u001b[0m\u001b[0;34m.\u001b[0m\u001b[0mget_session\u001b[0m\u001b[0;34m(\u001b[0m\u001b[0msession\u001b[0m\u001b[0;34m)\u001b[0m\u001b[0;34m\u001b[0m\u001b[0;34m\u001b[0m\u001b[0m\n\u001b[0m\u001b[1;32m      8\u001b[0m     \u001b[0;32mif\u001b[0m \u001b[0mresult\u001b[0m \u001b[0;32mis\u001b[0m \u001b[0;32mNone\u001b[0m\u001b[0;34m:\u001b[0m\u001b[0;34m\u001b[0m\u001b[0;34m\u001b[0m\u001b[0m\n\u001b[1;32m      9\u001b[0m         \u001b[0;32mcontinue\u001b[0m\u001b[0;34m\u001b[0m\u001b[0;34m\u001b[0m\u001b[0m\n",
      "\u001b[0;32m~/bundesrat-scraper/niedersachsen/scraper_niedersachsen.py\u001b[0m in \u001b[0;36mget_session\u001b[0;34m(session)\u001b[0m\n\u001b[1;32m    113\u001b[0m     \u001b[0;32mexcept\u001b[0m \u001b[0mKeyError\u001b[0m\u001b[0;34m:\u001b[0m\u001b[0;34m\u001b[0m\u001b[0;34m\u001b[0m\u001b[0m\n\u001b[1;32m    114\u001b[0m         \u001b[0;32mreturn\u001b[0m\u001b[0;34m\u001b[0m\u001b[0;34m\u001b[0m\u001b[0m\n\u001b[0;32m--> 115\u001b[0;31m     \u001b[0;32mreturn\u001b[0m \u001b[0mdict\u001b[0m\u001b[0;34m(\u001b[0m\u001b[0mget_beschluesse_text\u001b[0m\u001b[0;34m(\u001b[0m\u001b[0msession\u001b[0m\u001b[0;34m,\u001b[0m \u001b[0mfilename\u001b[0m\u001b[0;34m)\u001b[0m\u001b[0;34m)\u001b[0m\u001b[0;34m\u001b[0m\u001b[0;34m\u001b[0m\u001b[0m\n\u001b[0m\u001b[1;32m    116\u001b[0m     \u001b[0;31m#return dict()\u001b[0m\u001b[0;34m\u001b[0m\u001b[0;34m\u001b[0m\u001b[0;34m\u001b[0m\u001b[0m\n\u001b[1;32m    117\u001b[0m \u001b[0;34m\u001b[0m\u001b[0m\n",
      "\u001b[0;32m~/bundesrat-scraper/niedersachsen/scraper_niedersachsen.py\u001b[0m in \u001b[0;36mget_beschluesse_text\u001b[0;34m(session, filename)\u001b[0m\n\u001b[1;32m     62\u001b[0m                 \u001b[0mnext_top\u001b[0m \u001b[0;34m=\u001b[0m \u001b[0mcutter\u001b[0m\u001b[0;34m.\u001b[0m\u001b[0mfilter\u001b[0m\u001b[0;34m(\u001b[0m\u001b[0mauto_regex\u001b[0m\u001b[0;34m=\u001b[0m\u001b[0;34m'^{}\\.$'\u001b[0m\u001b[0;34m.\u001b[0m\u001b[0mformat\u001b[0m\u001b[0;34m(\u001b[0m\u001b[0mnext_\u001b[0m\u001b[0;34m[\u001b[0m\u001b[0;34m:\u001b[0m\u001b[0;34m-\u001b[0m\u001b[0;36m1\u001b[0m\u001b[0;34m]\u001b[0m\u001b[0;34m)\u001b[0m\u001b[0;34m)\u001b[0m\u001b[0;34m\u001b[0m\u001b[0;34m\u001b[0m\u001b[0m\n\u001b[1;32m     63\u001b[0m \u001b[0;34m\u001b[0m\u001b[0m\n\u001b[0;32m---> 64\u001b[0;31m         \u001b[0msenats_text\u001b[0m\u001b[0;34m,\u001b[0m \u001b[0mbr_text\u001b[0m \u001b[0;34m=\u001b[0m \u001b[0mgetSenatsAndBrTextsForCurrentTOP\u001b[0m\u001b[0;34m(\u001b[0m\u001b[0mcutter\u001b[0m\u001b[0;34m,\u001b[0m \u001b[0mcurrent_top\u001b[0m\u001b[0;34m,\u001b[0m \u001b[0mnext_top\u001b[0m\u001b[0;34m)\u001b[0m\u001b[0;34m\u001b[0m\u001b[0;34m\u001b[0m\u001b[0m\n\u001b[0m\u001b[1;32m     65\u001b[0m         \u001b[0;32myield\u001b[0m \u001b[0mtop_num\u001b[0m\u001b[0;34m,\u001b[0m \u001b[0;34m{\u001b[0m\u001b[0;34m'senat'\u001b[0m\u001b[0;34m:\u001b[0m \u001b[0msenats_text\u001b[0m\u001b[0;34m,\u001b[0m \u001b[0;34m'bundesrat'\u001b[0m\u001b[0;34m:\u001b[0m \u001b[0mbr_text\u001b[0m\u001b[0;34m}\u001b[0m\u001b[0;34m\u001b[0m\u001b[0;34m\u001b[0m\u001b[0m\n\u001b[1;32m     66\u001b[0m \u001b[0;34m\u001b[0m\u001b[0m\n",
      "\u001b[0;32m~/bundesrat-scraper/niedersachsen/scraper_niedersachsen.py\u001b[0m in \u001b[0;36mgetSenatsAndBrTextsForCurrentTOP\u001b[0;34m(cutter, current_top, next_top)\u001b[0m\n\u001b[1;32m    100\u001b[0m     \u001b[0mprint\u001b[0m\u001b[0;34m(\u001b[0m\u001b[0msenats_text\u001b[0m\u001b[0;34m)\u001b[0m\u001b[0;34m\u001b[0m\u001b[0;34m\u001b[0m\u001b[0m\n\u001b[1;32m    101\u001b[0m     \u001b[0;32mif\u001b[0m \u001b[0msenats_text\u001b[0m \u001b[0;34m!=\u001b[0m \u001b[0;34m\"\"\u001b[0m\u001b[0;34m:\u001b[0m\u001b[0;34m\u001b[0m\u001b[0;34m\u001b[0m\u001b[0m\n\u001b[0;32m--> 102\u001b[0;31m         \u001b[0msenats_text\u001b[0m \u001b[0;34m=\u001b[0m \u001b[0mSENAT_TEXT_RE\u001b[0m\u001b[0;34m.\u001b[0m\u001b[0msearch\u001b[0m\u001b[0;34m(\u001b[0m\u001b[0msenats_text\u001b[0m\u001b[0;34m)\u001b[0m\u001b[0;34m.\u001b[0m\u001b[0mgroup\u001b[0m\u001b[0;34m(\u001b[0m\u001b[0;36m1\u001b[0m\u001b[0;34m)\u001b[0m\u001b[0;34m\u001b[0m\u001b[0;34m\u001b[0m\u001b[0m\n\u001b[0m\u001b[1;32m    103\u001b[0m \u001b[0;34m\u001b[0m\u001b[0m\n\u001b[1;32m    104\u001b[0m     \u001b[0mbr_text\u001b[0m \u001b[0;34m=\u001b[0m \u001b[0mbr_text\u001b[0m\u001b[0;34m.\u001b[0m\u001b[0mclean_text\u001b[0m\u001b[0;34m(\u001b[0m\u001b[0;34m)\u001b[0m\u001b[0;34m\u001b[0m\u001b[0;34m\u001b[0m\u001b[0m\n",
      "\u001b[0;31mAttributeError\u001b[0m: 'NoneType' object has no attribute 'group'"
     ]
    }
   ],
   "source": [
    "for session in sessions:\n",
    "    num = session['number']\n",
    "    if str(num) in session_tops:\n",
    "        continue\n",
    "    print('\\nLoading tops of: %s' % num)\n",
    "    \n",
    "    result = scraper_niedersachsen.get_session(session)\n",
    "    if result is None:\n",
    "        continue\n",
    "    session_tops[str(num)] = result\n",
    "    with open(FILENAME, 'w') as f:\n",
    "        json.dump(session_tops, f)\n",
    "        \n",
    "print('Total sessions:', len(session_tops))"
   ]
  },
  {
   "cell_type": "code",
   "execution_count": null,
   "metadata": {},
   "outputs": [],
   "source": []
  }
 ],
 "metadata": {
  "kernelspec": {
   "display_name": "Python 3",
   "language": "python",
   "name": "python3"
  },
  "language_info": {
   "codemirror_mode": {
    "name": "ipython",
    "version": 3
   },
   "file_extension": ".py",
   "mimetype": "text/x-python",
   "name": "python",
   "nbconvert_exporter": "python",
   "pygments_lexer": "ipython3",
   "version": "3.6.8"
  }
 },
 "nbformat": 4,
 "nbformat_minor": 2
}
